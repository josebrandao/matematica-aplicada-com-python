<<<<<<< HEAD
{
  "nbformat": 4,
  "nbformat_minor": 0,
  "metadata": {
    "colab": {
      "provenance": []
    },
    "kernelspec": {
      "name": "python3",
      "display_name": "Python 3"
    },
    "language_info": {
      "name": "python"
    }
  },
  "cells": [
    {
      "cell_type": "code",
      "execution_count": null,
      "metadata": {
        "id": "daB3MlfuPpNo"
      },
      "outputs": [],
      "source": []
    },
    {
      "cell_type": "code",
      "source": [
        "import pandas as pd\n",
        "import numpy as np\n",
        "import matplotlib.pyplot as plt\n",
        "import matplotlib.dates as mdates\n",
        "from sklearn.linear_model import LinearRegression\n",
        "\n",
        # URL do arquivo CSV raw
		url = 'https://raw.githubusercontent.com/josebrandao/matematica-aplicada-com-python/main/REGRESSAO%20LINEAR/dataset_teste.csv'

		# Carregar os dados diretamente do GitHub
		df = pd.read_csv(url)
        "# Remover espaços extras nos nomes das colunas\n",
        "df.columns = df.columns.str.strip()\n",
        "\n",
        "# Converter a coluna 'Date' para o formato de data\n",
        "df['Date'] = pd.to_datetime(df['Date'], format='%Y%m%d%H')  # Ajuste o formato conforme necessário\n",
        "\n",
        "# Ordenar os dados por data\n",
        "df = df.sort_values(by='Date')\n",
        "\n",
        "# Agrupar os dados por mês, pegando a soma para cada mês\n",
        "df['Month'] = df['Date'].dt.to_period('M')  # Extrair o mês e o ano\n",
        "df_monthly = df.groupby('Month').agg({'Event count': 'sum'}).reset_index()\n",
        "\n",
        "# Calcular a coluna 'Dias' como a diferença entre cada mês e o primeiro mês\n",
        "data_inicio = df_monthly['Month'].min().start_time\n",
        "df_monthly['Dias'] = (df_monthly['Month'].dt.start_time - data_inicio).dt.days\n",
        "\n",
        "# Regressão linear\n",
        "model = LinearRegression()\n",
        "model.fit(df_monthly[['Dias']], df_monthly['Event count'])\n",
        "\n",
        "# Gerar previsões para os próximos 6 meses (aproximadamente 6 meses a partir do último dado)\n",
        "dias_futuros = np.array(range(df_monthly['Dias'].max() + 1, df_monthly['Dias'].max() + 1 + 180, 30)).reshape(-1, 1)  # Aproximadamente 30 dias por mês\n",
        "\n",
        "# Ajustar a estrutura de 'dias_futuros' para ser um DataFrame com o nome da coluna 'Dias'\n",
        "dias_futuros_df = pd.DataFrame(dias_futuros, columns=['Dias'])\n",
        "\n",
        "# Fazer a previsão com o modelo\n",
        "previsao_futura = model.predict(dias_futuros_df)\n",
        "\n",
        "# Convertendo os dias futuros para datas a partir da data inicial\n",
        "futura_datas = pd.to_datetime(dias_futuros.flatten(), origin=data_inicio, unit='D')\n",
        "\n",
        "# Plotando os dados reais vs as previsões\n",
        "plt.figure(figsize=(12, 6))  # Tornar o gráfico mais largo e legível\n",
        "plt.scatter(df_monthly['Month'].dt.start_time, df_monthly['Event count'], color='blue', label='Dados reais')\n",
        "\n",
        "# Linha de regressão (dados reais vs previsão)\n",
        "plt.plot(df_monthly['Month'].dt.start_time, model.predict(df_monthly[['Dias']]), color='red', label='Linha de regressão')\n",
        "\n",
        "# Plotando a previsão para os próximos 6 meses\n",
        "plt.plot(futura_datas, previsao_futura, color='green', linestyle='--', label='Previsão para os próximos 6 meses')\n",
        "\n",
        "# Ajustando o formato da data no eixo X\n",
        "plt.gca().xaxis.set_major_formatter(mdates.DateFormatter('%Y-%m-%d'))\n",
        "plt.gca().xaxis.set_major_locator(mdates.MonthLocator())\n",
        "\n",
        "# Rotacionar os rótulos do eixo X para melhor legibilidade\n",
        "plt.xticks(rotation=45)\n",
        "\n",
        "# Títulos e legendas\n",
        "plt.xlabel('Data')\n",
        "plt.ylabel('Contagem de eventos')\n",
        "plt.title('Regressão Linear: Contagem de eventos ao longo do tempo')\n",
        "\n",
        "# Adicionando o percentual de crescimento no gráfico\n",
        "slope = model.coef_[0]  # Coeficiente angular da linha de regressão\n",
        "percentual_crescimento_6_meses = (slope * 180) / df_monthly['Event count'].iloc[-1] * 100\n",
        "plt.text(df_monthly['Month'].dt.start_time.iloc[-1], df_monthly['Event count'].iloc[-1],\n",
        "         f'Crescimento para os próximos 6 meses: {percentual_crescimento_6_meses:.2f}%',\n",
        "         color='purple', fontsize=14, ha='center', va='bottom')\n",
        "\n",
        "plt.legend()\n",
        "\n",
        "# Exibir o gráfico\n",
        "plt.tight_layout()  # Ajustar o layout para evitar sobreposição\n",
        "plt.show()\n",
        "\n",
        "# Imprimir as previsões para os próximos 6 meses\n",
        "for i, pred in enumerate(previsao_futura[:6]):\n",
        "    print(f\"Previsão para {futura_datas[i].strftime('%Y-%m-%d')}: {pred:.2f} eventos\")\n"
      ],
      "metadata": {
        "id": "g84i9D3OQ0ha",
        "outputId": "4b6a13ad-99a3-44a6-c441-368de59ed3bf",
        "colab": {
          "base_uri": "https://localhost:8080/",
          "height": 373
        }
      },
      "execution_count": null,
      "outputs": [
        {
          "output_type": "error",
          "ename": "FileNotFoundError",
          "evalue": "[Errno 2] No such file or directory: 'C:\\\\Users\\\\jose.brandao_saudeid\\\\Downloads\\\\agendamento_fleury.csv'",
          "traceback": [
            "\u001b[0;31m---------------------------------------------------------------------------\u001b[0m",
            "\u001b[0;31mFileNotFoundError\u001b[0m                         Traceback (most recent call last)",
            "\u001b[0;32m<ipython-input-1-68972ade9ffe>\u001b[0m in \u001b[0;36m<cell line: 0>\u001b[0;34m()\u001b[0m\n\u001b[1;32m      6\u001b[0m \u001b[0;34m\u001b[0m\u001b[0m\n\u001b[1;32m      7\u001b[0m \u001b[0;31m# Carregar os dados (ajuste o caminho do arquivo conforme necessário)\u001b[0m\u001b[0;34m\u001b[0m\u001b[0;34m\u001b[0m\u001b[0m\n\u001b[0;32m----> 8\u001b[0;31m \u001b[0mdf\u001b[0m \u001b[0;34m=\u001b[0m \u001b[0mpd\u001b[0m\u001b[0;34m.\u001b[0m\u001b[0mread_csv\u001b[0m\u001b[0;34m(\u001b[0m\u001b[0;34m'C:\\\\Users\\\\jose.brandao_saudeid\\\\Downloads\\\\agendamento_fleury.csv'\u001b[0m\u001b[0;34m)\u001b[0m\u001b[0;34m\u001b[0m\u001b[0;34m\u001b[0m\u001b[0m\n\u001b[0m\u001b[1;32m      9\u001b[0m \u001b[0;34m\u001b[0m\u001b[0m\n\u001b[1;32m     10\u001b[0m \u001b[0;31m# Remover espaços extras nos nomes das colunas\u001b[0m\u001b[0;34m\u001b[0m\u001b[0;34m\u001b[0m\u001b[0m\n",
            "\u001b[0;32m/usr/local/lib/python3.11/dist-packages/pandas/io/parsers/readers.py\u001b[0m in \u001b[0;36mread_csv\u001b[0;34m(filepath_or_buffer, sep, delimiter, header, names, index_col, usecols, dtype, engine, converters, true_values, false_values, skipinitialspace, skiprows, skipfooter, nrows, na_values, keep_default_na, na_filter, verbose, skip_blank_lines, parse_dates, infer_datetime_format, keep_date_col, date_parser, date_format, dayfirst, cache_dates, iterator, chunksize, compression, thousands, decimal, lineterminator, quotechar, quoting, doublequote, escapechar, comment, encoding, encoding_errors, dialect, on_bad_lines, delim_whitespace, low_memory, memory_map, float_precision, storage_options, dtype_backend)\u001b[0m\n\u001b[1;32m   1024\u001b[0m     \u001b[0mkwds\u001b[0m\u001b[0;34m.\u001b[0m\u001b[0mupdate\u001b[0m\u001b[0;34m(\u001b[0m\u001b[0mkwds_defaults\u001b[0m\u001b[0;34m)\u001b[0m\u001b[0;34m\u001b[0m\u001b[0;34m\u001b[0m\u001b[0m\n\u001b[1;32m   1025\u001b[0m \u001b[0;34m\u001b[0m\u001b[0m\n\u001b[0;32m-> 1026\u001b[0;31m     \u001b[0;32mreturn\u001b[0m \u001b[0m_read\u001b[0m\u001b[0;34m(\u001b[0m\u001b[0mfilepath_or_buffer\u001b[0m\u001b[0;34m,\u001b[0m \u001b[0mkwds\u001b[0m\u001b[0;34m)\u001b[0m\u001b[0;34m\u001b[0m\u001b[0;34m\u001b[0m\u001b[0m\n\u001b[0m\u001b[1;32m   1027\u001b[0m \u001b[0;34m\u001b[0m\u001b[0m\n\u001b[1;32m   1028\u001b[0m \u001b[0;34m\u001b[0m\u001b[0m\n",
            "\u001b[0;32m/usr/local/lib/python3.11/dist-packages/pandas/io/parsers/readers.py\u001b[0m in \u001b[0;36m_read\u001b[0;34m(filepath_or_buffer, kwds)\u001b[0m\n\u001b[1;32m    618\u001b[0m \u001b[0;34m\u001b[0m\u001b[0m\n\u001b[1;32m    619\u001b[0m     \u001b[0;31m# Create the parser.\u001b[0m\u001b[0;34m\u001b[0m\u001b[0;34m\u001b[0m\u001b[0m\n\u001b[0;32m--> 620\u001b[0;31m     \u001b[0mparser\u001b[0m \u001b[0;34m=\u001b[0m \u001b[0mTextFileReader\u001b[0m\u001b[0;34m(\u001b[0m\u001b[0mfilepath_or_buffer\u001b[0m\u001b[0;34m,\u001b[0m \u001b[0;34m**\u001b[0m\u001b[0mkwds\u001b[0m\u001b[0;34m)\u001b[0m\u001b[0;34m\u001b[0m\u001b[0;34m\u001b[0m\u001b[0m\n\u001b[0m\u001b[1;32m    621\u001b[0m \u001b[0;34m\u001b[0m\u001b[0m\n\u001b[1;32m    622\u001b[0m     \u001b[0;32mif\u001b[0m \u001b[0mchunksize\u001b[0m \u001b[0;32mor\u001b[0m \u001b[0miterator\u001b[0m\u001b[0;34m:\u001b[0m\u001b[0;34m\u001b[0m\u001b[0;34m\u001b[0m\u001b[0m\n",
            "\u001b[0;32m/usr/local/lib/python3.11/dist-packages/pandas/io/parsers/readers.py\u001b[0m in \u001b[0;36m__init__\u001b[0;34m(self, f, engine, **kwds)\u001b[0m\n\u001b[1;32m   1618\u001b[0m \u001b[0;34m\u001b[0m\u001b[0m\n\u001b[1;32m   1619\u001b[0m         \u001b[0mself\u001b[0m\u001b[0;34m.\u001b[0m\u001b[0mhandles\u001b[0m\u001b[0;34m:\u001b[0m \u001b[0mIOHandles\u001b[0m \u001b[0;34m|\u001b[0m \u001b[0;32mNone\u001b[0m \u001b[0;34m=\u001b[0m \u001b[0;32mNone\u001b[0m\u001b[0;34m\u001b[0m\u001b[0;34m\u001b[0m\u001b[0m\n\u001b[0;32m-> 1620\u001b[0;31m         \u001b[0mself\u001b[0m\u001b[0;34m.\u001b[0m\u001b[0m_engine\u001b[0m \u001b[0;34m=\u001b[0m \u001b[0mself\u001b[0m\u001b[0;34m.\u001b[0m\u001b[0m_make_engine\u001b[0m\u001b[0;34m(\u001b[0m\u001b[0mf\u001b[0m\u001b[0;34m,\u001b[0m \u001b[0mself\u001b[0m\u001b[0;34m.\u001b[0m\u001b[0mengine\u001b[0m\u001b[0;34m)\u001b[0m\u001b[0;34m\u001b[0m\u001b[0;34m\u001b[0m\u001b[0m\n\u001b[0m\u001b[1;32m   1621\u001b[0m \u001b[0;34m\u001b[0m\u001b[0m\n\u001b[1;32m   1622\u001b[0m     \u001b[0;32mdef\u001b[0m \u001b[0mclose\u001b[0m\u001b[0;34m(\u001b[0m\u001b[0mself\u001b[0m\u001b[0;34m)\u001b[0m \u001b[0;34m->\u001b[0m \u001b[0;32mNone\u001b[0m\u001b[0;34m:\u001b[0m\u001b[0;34m\u001b[0m\u001b[0;34m\u001b[0m\u001b[0m\n",
            "\u001b[0;32m/usr/local/lib/python3.11/dist-packages/pandas/io/parsers/readers.py\u001b[0m in \u001b[0;36m_make_engine\u001b[0;34m(self, f, engine)\u001b[0m\n\u001b[1;32m   1878\u001b[0m                 \u001b[0;32mif\u001b[0m \u001b[0;34m\"b\"\u001b[0m \u001b[0;32mnot\u001b[0m \u001b[0;32min\u001b[0m \u001b[0mmode\u001b[0m\u001b[0;34m:\u001b[0m\u001b[0;34m\u001b[0m\u001b[0;34m\u001b[0m\u001b[0m\n\u001b[1;32m   1879\u001b[0m                     \u001b[0mmode\u001b[0m \u001b[0;34m+=\u001b[0m \u001b[0;34m\"b\"\u001b[0m\u001b[0;34m\u001b[0m\u001b[0;34m\u001b[0m\u001b[0m\n\u001b[0;32m-> 1880\u001b[0;31m             self.handles = get_handle(\n\u001b[0m\u001b[1;32m   1881\u001b[0m                 \u001b[0mf\u001b[0m\u001b[0;34m,\u001b[0m\u001b[0;34m\u001b[0m\u001b[0;34m\u001b[0m\u001b[0m\n\u001b[1;32m   1882\u001b[0m                 \u001b[0mmode\u001b[0m\u001b[0;34m,\u001b[0m\u001b[0;34m\u001b[0m\u001b[0;34m\u001b[0m\u001b[0m\n",
            "\u001b[0;32m/usr/local/lib/python3.11/dist-packages/pandas/io/common.py\u001b[0m in \u001b[0;36mget_handle\u001b[0;34m(path_or_buf, mode, encoding, compression, memory_map, is_text, errors, storage_options)\u001b[0m\n\u001b[1;32m    871\u001b[0m         \u001b[0;32mif\u001b[0m \u001b[0mioargs\u001b[0m\u001b[0;34m.\u001b[0m\u001b[0mencoding\u001b[0m \u001b[0;32mand\u001b[0m \u001b[0;34m\"b\"\u001b[0m \u001b[0;32mnot\u001b[0m \u001b[0;32min\u001b[0m \u001b[0mioargs\u001b[0m\u001b[0;34m.\u001b[0m\u001b[0mmode\u001b[0m\u001b[0;34m:\u001b[0m\u001b[0;34m\u001b[0m\u001b[0;34m\u001b[0m\u001b[0m\n\u001b[1;32m    872\u001b[0m             \u001b[0;31m# Encoding\u001b[0m\u001b[0;34m\u001b[0m\u001b[0;34m\u001b[0m\u001b[0m\n\u001b[0;32m--> 873\u001b[0;31m             handle = open(\n\u001b[0m\u001b[1;32m    874\u001b[0m                 \u001b[0mhandle\u001b[0m\u001b[0;34m,\u001b[0m\u001b[0;34m\u001b[0m\u001b[0;34m\u001b[0m\u001b[0m\n\u001b[1;32m    875\u001b[0m                 \u001b[0mioargs\u001b[0m\u001b[0;34m.\u001b[0m\u001b[0mmode\u001b[0m\u001b[0;34m,\u001b[0m\u001b[0;34m\u001b[0m\u001b[0;34m\u001b[0m\u001b[0m\n",
            "\u001b[0;31mFileNotFoundError\u001b[0m: [Errno 2] No such file or directory: 'C:\\\\Users\\\\jose.brandao_saudeid\\\\Downloads\\\\agendamento_fleury.csv'"
          ]
        }
      ]
    }
  ]
}
=======
import pandas as pd
import numpy as np
import matplotlib.pyplot as plt
import matplotlib.dates as mdates
from sklearn.linear_model import LinearRegression

# URL do arquivo CSV raw
url = 'https://raw.githubusercontent.com/josebrandao/matematica-aplicada-com-python/main/REGRESSAO%20LINEAR/dataset_teste.csv'

# Carregar os dados diretamente do GitHub
df = pd.read_csv(url)

# Remover espaços extras nos nomes das colunas
df.columns = df.columns.str.strip()

# Converter a coluna 'Date' para o formato de data
df['Date'] = pd.to_datetime(df['Date'], format='%Y%m%d%H')  # Ajuste o formato conforme necessário

# Ordenar os dados por data
df = df.sort_values(by='Date')

# Agrupar os dados por mês, pegando a soma para cada mês
df['Month'] = df['Date'].dt.to_period('M')  # Extrair o mês e o ano
df_monthly = df.groupby('Month').agg({'Event count': 'sum'}).reset_index()

# Calcular a coluna 'Dias' como a diferença entre cada mês e o primeiro mês
data_inicio = df_monthly['Month'].min().start_time
df_monthly['Dias'] = (df_monthly['Month'].dt.start_time - data_inicio).dt.days

# Regressão linear
model = LinearRegression()
model.fit(df_monthly[['Dias']], df_monthly['Event count'])

# Gerar previsões para os próximos 6 meses (aproximadamente 6 meses a partir do último dado)
dias_futuros = np.array(range(df_monthly['Dias'].max() + 1, df_monthly['Dias'].max() + 1 + 180, 30)).reshape(-1, 1)  # Aproximadamente 30 dias por mês

# Ajustar a estrutura de 'dias_futuros' para ser um DataFrame com o nome da coluna 'Dias'
dias_futuros_df = pd.DataFrame(dias_futuros, columns=['Dias'])

# Fazer a previsão com o modelo
previsao_futura = model.predict(dias_futuros_df)

# Convertendo os dias futuros para datas a partir da data inicial
futura_datas = pd.to_datetime(dias_futuros.flatten(), origin=data_inicio, unit='D')

# Plotando os dados reais vs as previsões
plt.figure(figsize=(12, 6))  # Tornar o gráfico mais largo e legível
plt.scatter(df_monthly['Month'].dt.start_time, df_monthly['Event count'], color='blue', label='Dados reais')

# Linha de regressão (dados reais vs previsão)
plt.plot(df_monthly['Month'].dt.start_time, model.predict(df_monthly[['Dias']]), color='red', label='Linha de regressão')

# Plotando a previsão para os próximos 6 meses
plt.plot(futura_datas, previsao_futura, color='green', linestyle='--', label='Previsão para os próximos 6 meses')

# Ajustando o formato da data no eixo X
plt.gca().xaxis.set_major_formatter(mdates.DateFormatter('%Y-%m-%d'))
plt.gca().xaxis.set_major_locator(mdates.MonthLocator())

# Rotacionar os rótulos do eixo X para melhor legibilidade
plt.xticks(rotation=45)

# Títulos e legendas
plt.xlabel('Data')
plt.ylabel('Contagem de eventos')
plt.title('Agendamento CLIENTE: Crescimento para os próximos 6 meses, baseado nos disparos dos eventos')

# Adicionando o percentual de crescimento no gráfico
slope = model.coef_[0]  # Coeficiente angular da linha de regressão
percentual_crescimento_6_meses = (slope * 180) / df_monthly['Event count'].iloc[-1] * 100
plt.text(df_monthly['Month'].dt.start_time.iloc[-1], df_monthly['Event count'].iloc[-1], 
         f'Crescimento para os próximos 6 meses: {percentual_crescimento_6_meses:.2f}%', 
         color='purple', fontsize=14, ha='center', va='bottom')

plt.legend()

# Exibir o gráfico
plt.tight_layout()  # Ajustar o layout para evitar sobreposição
plt.show()

# Imprimir as previsões para os próximos 6 meses
for i, pred in enumerate(previsao_futura[:6]):
    print(f"Previsão para {futura_datas[i].strftime('%Y-%m-%d')}: {pred:.2f} eventos")
>>>>>>> c0285accb59d2eb3af8df6f2cecc4df389c3101f
