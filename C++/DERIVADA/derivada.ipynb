{
  "nbformat": 4,
  "nbformat_minor": 0,
  "metadata": {
    "colab": {
      "provenance": []
    },
    "kernelspec": {
      "name": "python3",
      "display_name": "Python 3"
    },
    "language_info": {
      "name": "python"
    }
  },
  "cells": [
    {
      "cell_type": "code",
      "execution_count": null,
      "metadata": {
        "id": "JIo1Tos2R_eN"
      },
      "outputs": [],
      "source": [
        "import numpy as np\n",
        "import matplotlib.pyplot as plt\n",
        "\n",
        "# Definindo a função e a sua derivada\n",
        "def f(x):\n",
        "    return x**2\n",
        "\n",
        "def f_prime(x):\n",
        "    return 2*x\n",
        "\n",
        "# Gerando valores para x\n",
        "x_values = np.linspace(-5, 5, 400)  # Aumentei a quantidade de pontos para suavizar a curva\n",
        "\n",
        "# Calculando os valores de y para a função e sua derivada\n",
        "y_values = f(x_values)\n",
        "y_prime_values = f_prime(x_values)\n",
        "\n",
        "# Plotando a função e sua derivada\n",
        "plt.figure(figsize=(8, 6))\n",
        "\n",
        "# Plotando f(x) = x^2 (invertendo a posição para gráfico horizontal)\n",
        "plt.plot(y_values, x_values, label=r'$f(x) = x^2$', color='blue', linewidth=3)  # Aqui, f(x) vai no eixo horizontal\n",
        "\n",
        "# Plotando f'(x) = 2x (invertendo também)\n",
        "plt.plot(y_prime_values, x_values, label=r\"$f'(x) = 2x$\", color='red', linewidth=3)  # A derivada também é plotada horizontalmente\n",
        "\n",
        "# Adicionando rótulos e título\n",
        "plt.title('Função e sua Derivada - Curva Horizontal', fontsize=14)\n",
        "plt.xlabel('y', fontsize=12)\n",
        "plt.ylabel('x', fontsize=12)\n",
        "\n",
        "# Exibindo a legenda\n",
        "plt.legend()\n",
        "\n",
        "# Destacando o ponto tangente na função\n",
        "x_tangent = 2\n",
        "y_tangent = f(x_tangent)\n",
        "y_prime_tangent = f_prime(x_tangent)\n",
        "\n",
        "# Plotando a reta tangente no gráfico horizontal\n",
        "plt.plot(y_tangent, x_tangent, 'go', label=f'Ponto Tangente em x={x_tangent}')\n",
        "plt.plot(f_prime(x_tangent)*(x_values - x_tangent) + y_tangent, x_values, 'g--', label='Reta Tangente')\n",
        "\n",
        "# Exibindo o gráfico\n",
        "plt.grid(True)\n",
        "plt.axhline(0, color='black',linewidth=0.5)\n",
        "plt.axvline(0, color='black',linewidth=0.5)\n",
        "plt.gca().set_aspect('equal', adjustable='box')\n",
        "\n",
        "# Exibindo o gráfico\n",
        "plt.show()\n"
      ]
    }
  ]
}